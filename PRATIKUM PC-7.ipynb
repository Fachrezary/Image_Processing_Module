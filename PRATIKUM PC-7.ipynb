{
 "cells": [
  {
   "cell_type": "code",
   "execution_count": 48,
   "id": "dd4be457",
   "metadata": {},
   "outputs": [],
   "source": [
    "#Import Library\n",
    "import cv2\n",
    "import numpy as np\n",
    "from matplotlib import pyplot as plt"
   ]
  },
  {
   "cell_type": "markdown",
   "id": "644f0f7e",
   "metadata": {},
   "source": [
    "# Pengambangan Dwi Aras (Lanjutan Deteksi dan Garis) - PCD 10\n",
    "Dwi aras = membagi menjadi 2 area (umumnya membagi menjadi area biner (hitam = 0 dan putih =1 atau 255)\n",
    "\n",
    "Segmentasi yang paling sederhana dilaksanakan dengan menggunakan ambang intensitas. Nilai yang lebih kecil daripada nilai ambang diperlakukan sebagai area pertama dan yang lebih besar daripada atau sama dengan nilai ambang dikelompokkan sebagai area yang kedua. Dalam hal ini, salah satu area tersebut berkedudukan sebagai latarbelakang. Cara seperti itulah yang disebut pengambangan dwi-aras (bi-level thresholding) atau terkadang dinamakan pengambangan intensitas.\n",
    "Peng-ambangan intensitas biasa digunakan untuk memisahkan tulisan \n",
    "hitam yang berada di atas secarik kertas putih. Namun, perlu diketahui, pengambangan ini mempunyai kelemahan, yaitu:\n",
    "1) tidak memperlihatkan hubungan spasial antarpiksel;\n",
    "2) sensitif terhadap pencahayaan yang tidak seragam;\n",
    "3) hanya berlaku untuk keadaan yang ideal (misalnya, latarbelakang hitam dan objek berwarna putih)."
   ]
  },
  {
   "cell_type": "code",
   "execution_count": 49,
   "id": "7acba490",
   "metadata": {},
   "outputs": [],
   "source": [
    "daun = cv2.imread(\"daun.jpg\",0)\n",
    "tinggi, lebar = daun.shape"
   ]
  },
  {
   "cell_type": "code",
   "execution_count": 50,
   "id": "dcab65bd",
   "metadata": {},
   "outputs": [],
   "source": [
    "cv2.imshow(\"Gambar Asli Daun -Arifina_202031020\", daun)\n",
    "cv2.waitKey(0)\n",
    "cv2.destroyAllWindows()"
   ]
  },
  {
   "cell_type": "markdown",
   "id": "3def4081",
   "metadata": {},
   "source": [
    "## Pengambangan Dwi Aras dengan perkiraan nilai ambang"
   ]
  },
  {
   "cell_type": "code",
   "execution_count": 51,
   "id": "f3667d86",
   "metadata": {},
   "outputs": [],
   "source": [
    "nilai_ambang = 128\n",
    "daun_hasil = daun.copy()\n",
    "for x in range (tinggi):\n",
    "    for y in range(lebar):\n",
    "        if daun[x,y] < nilai_ambang :\n",
    "            daun_hasil[x,y] = 0\n",
    "        else:\n",
    "            daun_hasil[x,y] = 255"
   ]
  },
  {
   "cell_type": "code",
   "execution_count": 52,
   "id": "8eb97e77",
   "metadata": {},
   "outputs": [],
   "source": [
    "cv2.imshow(\"Aras Daun -Arifina_202031020\", daun_hasil)\n",
    "cv2.waitKey(0)\n",
    "cv2.destroyAllWindows()"
   ]
  },
  {
   "cell_type": "markdown",
   "id": "e16ebc76",
   "metadata": {},
   "source": [
    "## Menentukan nilai ambang suatu gambar"
   ]
  },
  {
   "cell_type": "code",
   "execution_count": 53,
   "id": "c05a54fa",
   "metadata": {},
   "outputs": [],
   "source": [
    "#Untuk mencari nilai Ambang (Rumus ada di PCD - 10)\n",
    "def titeratif(image) :\n",
    "    tinggi, lebar = image.shape\n",
    "    t0 = 127\n",
    "    while(True) :\n",
    "        rata_kiri = 0;\n",
    "        rata_kanan = 0;\n",
    "        jum_kiri = 0;\n",
    "        jum_kanan = 0;\n",
    "        for x in range(tinggi):\n",
    "            for y in range(lebar):\n",
    "                if(image[x,y] <= 127) :\n",
    "                    rata_kiri = rata_kiri + image[x,y]\n",
    "                    jum_kiri = jum_kiri + 1\n",
    "                else :\n",
    "                    rata_kanan = rata_kanan + image[x,y]\n",
    "                    jum_kanan = jum_kanan + 1\n",
    "    \n",
    "        rata_kiri = rata_kiri / jum_kiri\n",
    "        rata_kanan = rata_kanan / jum_kanan\n",
    "        t1 = (rata_kiri + rata_kanan) / 2\n",
    "        if ((t0 - t1) < 1) :\n",
    "            break\n",
    "        t0 = t1\n",
    "    return round(t1)"
   ]
  },
  {
   "cell_type": "code",
   "execution_count": 54,
   "id": "b534ae33",
   "metadata": {},
   "outputs": [
    {
     "data": {
      "text/plain": [
       "131"
      ]
     },
     "execution_count": 54,
     "metadata": {},
     "output_type": "execute_result"
    }
   ],
   "source": [
    "titeratif(daun) #Setelah tau nilai ambangnya, silakan test lagi di codingan perkiraan ambang"
   ]
  },
  {
   "cell_type": "markdown",
   "id": "fde9a95c",
   "metadata": {},
   "source": [
    "## Aras Jamak\n",
    "Membagi area dari banyak area (contoh gambar harus banyak warna biar keliatan bedanya)\n",
    "\n",
    "Pada peng-ambangan beraras-jamak (multilevel thresholding), citra dibagi menjadi beberapa bagian dengan menggunakan beberapa nilai ambang, Cara seperti itu dilakukan kalau pada histogram terdapat puncak-puncak yang membedakan antara satu objek terhadap yang lain. "
   ]
  },
  {
   "cell_type": "code",
   "execution_count": null,
   "id": "11cfa554",
   "metadata": {},
   "outputs": [],
   "source": [
    "bentuk = cv2.image('arasJamak.png',0)\n",
    "tinggi, lebar = bentuk.shape"
   ]
  },
  {
   "cell_type": "code",
   "execution_count": 42,
   "id": "fb87c708",
   "metadata": {},
   "outputs": [],
   "source": [
    "def arasjamak(image, t1, t2) :\n",
    "    res = image\n",
    "    m,n = image.shape\n",
    "    for x in range (m):\n",
    "        for y in range(n):\n",
    "            if (image[x,y] <= t1) or (image[x,y] >= t2) :\n",
    "                res[x,y] = 0\n",
    "        else:\n",
    "            res[x,y] = 255\n",
    "    return res"
   ]
  },
  {
   "cell_type": "code",
   "execution_count": 43,
   "id": "a774c2d1",
   "metadata": {},
   "outputs": [],
   "source": [
    "## parameternya bisa diubah2, berhubung gambarnya ngambil dari pcd-10, maka ikuti aja uji coba parameter2 di sana\n",
    "bentukArasJamak = arasjamak(daun, 175, 220)"
   ]
  },
  {
   "cell_type": "code",
   "execution_count": 44,
   "id": "99dcba14",
   "metadata": {},
   "outputs": [],
   "source": [
    "cv2.imshow(\"Aras Jamak -Arifina_202031020\", bentukArasJamak)\n",
    "cv2.waitKey(0)\n",
    "cv2.destroyAllWindows()"
   ]
  },
  {
   "cell_type": "markdown",
   "id": "a8294122",
   "metadata": {},
   "source": [
    "# Konversi Manual Ruang Warna - PCD 9"
   ]
  },
  {
   "cell_type": "markdown",
   "id": "fe01d746",
   "metadata": {},
   "source": [
    "## Konversi RGB To HLS"
   ]
  },
  {
   "cell_type": "code",
   "execution_count": 45,
   "id": "15d29f2c",
   "metadata": {},
   "outputs": [],
   "source": [
    "daun = cv2.imread(\"daun.jpg\")\n",
    "daun_hls = cv2.cvtColor(daun, cv2.COLOR_BGR2HLS)\n",
    "tinggi, lebar = daun.shape[:2]"
   ]
  },
  {
   "cell_type": "code",
   "execution_count": 46,
   "id": "0fab0c56",
   "metadata": {},
   "outputs": [],
   "source": [
    "# Praktikan sering eror (saranku copasin ajalah codingan yg ini)\n",
    "for x in range(tinggi):\n",
    "    for y in range(lebar):\n",
    "        h, l, s = daun_hls[x, y]\n",
    "    \n",
    "        if h < 11 :\n",
    "            h = 0\n",
    "        elif h < 32 :\n",
    "            h = 21\n",
    "        elif h < 54 :\n",
    "            h = 43;\n",
    "        elif h < 116 :\n",
    "            h = 85;\n",
    "        elif h < 141 :\n",
    "            h = 128;\n",
    "        elif h < 185 :\n",
    "            h = 170;\n",
    "        elif h < 202 :\n",
    "            h = 191;\n",
    "        elif h < 223 :\n",
    "            h = 213;\n",
    "        elif h < 244 :\n",
    "            h = 234;\n",
    "        else :\n",
    "            h = 0;\n",
    "    \n",
    "        daun_hls[x,y][0] = h\n",
    "\n",
    "        if s >= 200 :\n",
    "            daun_hls[x,y][2] = 255\n",
    "        elif s <= 20 :\n",
    "            daun_hls[x,y][2] = 0\n",
    "        else :\n",
    "            daun_hls[x,y][2] = 128\n",
    "    \n",
    "        if l >= 200 :\n",
    "            daun_hls[x,y][1] = 255;\n",
    "        elif l <= 20 :\n",
    "            daun_hls[x,y][1] = 0;\n",
    "        else :\n",
    "            daun_hls[x,y][1] = 128;\n",
    "\n",
    "daun_res = cv2.cvtColor(daun_hls, cv2.COLOR_HLS2BGR)"
   ]
  },
  {
   "cell_type": "code",
   "execution_count": 47,
   "id": "fc592cb9",
   "metadata": {},
   "outputs": [],
   "source": [
    "cv2.imshow(\"Daun HLS -Arifina_202031020\", daun_res)\n",
    "cv2.waitKey(0)\n",
    "cv2.destroyAllWindows()"
   ]
  },
  {
   "cell_type": "markdown",
   "id": "66ff0eb2",
   "metadata": {},
   "source": [
    "## RGB to CMYK"
   ]
  },
  {
   "cell_type": "code",
   "execution_count": 4,
   "id": "768b6c74",
   "metadata": {},
   "outputs": [
    {
     "data": {
      "text/plain": [
       "-1"
      ]
     },
     "execution_count": 4,
     "metadata": {},
     "output_type": "execute_result"
    }
   ],
   "source": [
    "img = cv2.imread(\"gunung.jpg\")\n",
    "height, width = img.shape[:2]\n",
    "\n",
    "cv2.imshow(\"Gambar Gunung Tanpa Effect - Arifina_202031020\", img)\n",
    "cv2.waitKey(0)"
   ]
  },
  {
   "cell_type": "code",
   "execution_count": 5,
   "id": "e82a444e",
   "metadata": {},
   "outputs": [
    {
     "name": "stdout",
     "output_type": "stream",
     "text": [
      "405 720\n"
     ]
    }
   ],
   "source": [
    "#Panjang dan Lebar Gambar Aslinya\n",
    "print(height, width)"
   ]
  },
  {
   "cell_type": "code",
   "execution_count": 6,
   "id": "d026d0b6",
   "metadata": {},
   "outputs": [],
   "source": [
    "img_cmyk = np.zeros((height, width, 4)) #Variabel Penampung\n",
    "u = 0.5 #disesuaikan dengan rentang 0-1\n",
    "B = 1 #sudah ketetapannya untuk menghasilkan warna hitam\n",
    "\n",
    "#Looping untuk mengubah setiap pixel berdasarkan batasan panjang dan lebar gambar\n",
    "for i in np.arange(height): #Panjang\n",
    "    for j in np.arange(width): #Lebar\n",
    "        r,g,b = img[i][j]/255 #buat 3 variabel untuk warna red, green, blue\n",
    "        kb = min(1-r, 1-g, 1-b) #Mencari minimal dari RGB\n",
    "        \n",
    "        #Nilai dari setiap pixel total kb = 1 default unsur CMYK ke 0 semua\n",
    "        if kb == 1:\n",
    "            C = 0\n",
    "            M = 0\n",
    "            Y = 0\n",
    "            \n",
    "        #Kalau misalkan tidak 1 maka konversi RGB ke CMYK secara manual dengan rumus : -u*kb\n",
    "        else:\n",
    "            C = (1-r-u*kb) #Rumus ketetapan\n",
    "            M = (1-g-u*kb)\n",
    "            Y = (1-b-u*kb)\n",
    "            K = B*kb\n",
    "            \n",
    "        C = int(C * 255)\n",
    "        M = int(M * 255)\n",
    "        Y = int(Y * 255)\n",
    "        K = int(K * 255)\n",
    "        \n",
    "        img_cmyk[i][j] = C,M,Y,K\n",
    "        "
   ]
  },
  {
   "cell_type": "code",
   "execution_count": 7,
   "id": "d50695d0",
   "metadata": {},
   "outputs": [
    {
     "data": {
      "text/plain": [
       "-1"
      ]
     },
     "execution_count": 7,
     "metadata": {},
     "output_type": "execute_result"
    }
   ],
   "source": [
    "cv2.imshow(\"Gambar Gunung Effect CMYK - ARIFINA_202031020\", img_cmyk)\n",
    "cv2.waitKey(0)"
   ]
  },
  {
   "cell_type": "markdown",
   "id": "59549c3f",
   "metadata": {},
   "source": [
    "## RGB to YIQ"
   ]
  },
  {
   "cell_type": "code",
   "execution_count": 55,
   "id": "100a25e8",
   "metadata": {},
   "outputs": [],
   "source": [
    "img_yiq = np.zeros((height, width,3)) #Variabel untuk wadah gambar"
   ]
  },
  {
   "cell_type": "code",
   "execution_count": 56,
   "id": "7d7c91c1",
   "metadata": {},
   "outputs": [],
   "source": [
    "for i in np.arange(height): #Panjang\n",
    "    for j in np.arange(width): #Lebar\n",
    "        r,g,b = img[i][j]/255\n",
    "        Y = 0.299*r * 0.587*g + 0.114*b\n",
    "        I = 0.5959*r - 0.2746*g - 0.3213*b\n",
    "        Q = 0.2115*r - 0.5227*g + 0.3112*b\n",
    "        \n",
    "        Y = int(Y*255)\n",
    "        I = int(I*255)\n",
    "        Q = int(Q*255)\n",
    "        \n",
    "        #Masukkan kembali ke koordinat awal\n",
    "        img_yiq[i][j] = Y,I,Q"
   ]
  },
  {
   "cell_type": "code",
   "execution_count": 57,
   "id": "3cd86548",
   "metadata": {},
   "outputs": [
    {
     "data": {
      "text/plain": [
       "-1"
      ]
     },
     "execution_count": 57,
     "metadata": {},
     "output_type": "execute_result"
    }
   ],
   "source": [
    "cv2.imshow(\"Gambar Gunung Effect YIQ - Arifina_202031020\", img_yiq)\n",
    "cv2.waitKey(0)"
   ]
  },
  {
   "cell_type": "markdown",
   "id": "7ddb6d0a",
   "metadata": {},
   "source": [
    "# Operasi Geometrik - PCD 5"
   ]
  },
  {
   "cell_type": "markdown",
   "id": "bab8116f",
   "metadata": {},
   "source": [
    "## ZOOM\n",
    "Metode interpolasi yang berbeda digunakan. Metode interpolasi yang disukai adalah cv.INTER_AREA untuk mengecilkan, cv.INTER_CUBIC (lambat) & cv.INTER_LINEAR untuk memperbesar. Secara default, metode interpolasi cv.INTER_LINEAR digunakan untuk semua tujuan pengubahan ukuran. "
   ]
  },
  {
   "cell_type": "code",
   "execution_count": 30,
   "id": "37c05513",
   "metadata": {},
   "outputs": [],
   "source": [
    "## Boleh pake ini:\n",
    "# res = cv2.resize(img, None, fx=2, fy=2, interpolation = cv2.INTER_CUBIC)\n",
    "\n",
    "#atau ini:\n",
    "height, width = img.shape[:2]\n",
    "# pilih salah satu (lambat/besar/kecil)\n",
    "#memperlambat\n",
    "res = cv2.resize(img,(2*width, 2*height), interpolation = cv2.INTER_CUBIC)\n",
    "#memperbesar\n",
    "# res = cv2.resize(img,(2*width, 2*height), interpolation = cv2.INTER_LINEAR)\n",
    "#mengecilkan\n",
    "# res = cv2.resize(img,(2*width, 2*height), interpolation = cv2.INTER_AREA)\n",
    "\n",
    "\n",
    "cv2.imshow('gambar asli', img)\n",
    "cv2.imshow('hasil zoom', res)\n",
    "cv2.waitKey(0)\n",
    "cv2.destroyAllWindows()\n",
    "\n",
    "# fig, axs = plt.subplots(1,2, figsize = (10,10))\n",
    "# ax = axs.ravel()\n",
    "\n",
    "# ax[0].imshow(img, cmap ='gray')\n",
    "# ax[0].set_title('Gambar Asli')\n",
    "# ax[1].imshow(res, cmap ='gray')\n",
    "# ax[1].set_title('Hasil Zoom')\n"
   ]
  },
  {
   "cell_type": "markdown",
   "id": "1acfeff6",
   "metadata": {},
   "source": [
    "## TRANSLASI\n",
    "Translasi dapat dilakukan dengan menggunakan function warpAffine() dari Open CV"
   ]
  },
  {
   "cell_type": "code",
   "execution_count": 21,
   "id": "9fec795a",
   "metadata": {},
   "outputs": [],
   "source": [
    "img0 = cv2.imread('gunung.jpg',0)\n",
    "rows, cols = img0.shape\n",
    "\n",
    "M = np.float32([[1,0,10], [0,1,10]])\n",
    "img_translasi = cv2.warpAffine(img0,M,(cols, rows))\n",
    "\n",
    "cv2.imshow('gambar asli', img0)\n",
    "cv2.imshow('hasil translasi', img_translasi)\n",
    "cv2.waitKey(0)\n",
    "cv2.destroyAllWindows()\n",
    "\n",
    "# fig, axs = plt.subplots(1,2, figsize = (10,10))\n",
    "# ax = axs.ravel()\n",
    "\n",
    "# ax[0].imshow(img, cmap ='gray')\n",
    "# ax[0].set_title('Gambar Asli')\n",
    "# ax[1].imshow(img_translasi, cmap ='gray')\n",
    "# ax[1].set_title('Hasil translasi')"
   ]
  },
  {
   "cell_type": "markdown",
   "id": "e71a469c",
   "metadata": {},
   "source": [
    "## ROTASI\n",
    "Rotasi merupakan proses memutar gambar dengan sudut tertentu. Rotasi dapat dilakukan dengan menggunakan function GETROTATIONMATRIX2D() dari Open CV. Dengan menggunakan cara teresebut, dapat diatur besar sudut perputarannya. Output "
   ]
  },
  {
   "cell_type": "code",
   "execution_count": 35,
   "id": "0291ec32",
   "metadata": {},
   "outputs": [],
   "source": [
    "img0 = cv2.imread('gunung.jpg',0)\n",
    "rows, cols = img0.shape\n",
    "\n",
    "#cols-1 and rows-1 are the coordinate limits\n",
    "M = cv2.getRotationMatrix2D(((cols-1)/2.0,(rows-1)/2.0),90,1) #90 nya bisa diganti, sesuai derajat perputarannya\n",
    "img_rotated = cv2.warpAffine(img0,M,(cols, rows))\n",
    "\n",
    "cv2.imshow('gambar asli', img0)\n",
    "cv2.imshow('hasil rotasi', img_rotated)\n",
    "cv2.waitKey(0)\n",
    "cv2.destroyAllWindows()"
   ]
  }
 ],
 "metadata": {
  "kernelspec": {
   "display_name": "Python 3 (ipykernel)",
   "language": "python",
   "name": "python3"
  },
  "language_info": {
   "codemirror_mode": {
    "name": "ipython",
    "version": 3
   },
   "file_extension": ".py",
   "mimetype": "text/x-python",
   "name": "python",
   "nbconvert_exporter": "python",
   "pygments_lexer": "ipython3",
   "version": "3.9.13"
  }
 },
 "nbformat": 4,
 "nbformat_minor": 5
}
