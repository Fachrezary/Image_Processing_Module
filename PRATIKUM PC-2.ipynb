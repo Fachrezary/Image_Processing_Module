{
 "cells": [
  {
   "cell_type": "markdown",
   "id": "cd40f364",
   "metadata": {},
   "source": [
    "## Import Library"
   ]
  },
  {
   "cell_type": "code",
   "execution_count": 1,
   "id": "c1ddcb0f",
   "metadata": {},
   "outputs": [],
   "source": [
    "import cv2\n",
    "import numpy as np"
   ]
  },
  {
   "cell_type": "markdown",
   "id": "230e7412",
   "metadata": {},
   "source": [
    "## Read Image"
   ]
  },
  {
   "cell_type": "code",
   "execution_count": 2,
   "id": "2e06540b",
   "metadata": {},
   "outputs": [],
   "source": [
    "citra = cv2.imread('logo.png')"
   ]
  },
  {
   "cell_type": "markdown",
   "id": "36b4e18e",
   "metadata": {},
   "source": [
    "## Show Image"
   ]
  },
  {
   "cell_type": "code",
   "execution_count": 3,
   "id": "2202778d",
   "metadata": {},
   "outputs": [],
   "source": [
    "cv2.imshow(\"citra asli\", citra)\n",
    "cv2.waitKey(0)\n",
    "cv2.destroyAllWindows()"
   ]
  },
  {
   "cell_type": "markdown",
   "id": "16d0dfb2",
   "metadata": {},
   "source": [
    "## Split RGB Image"
   ]
  },
  {
   "cell_type": "code",
   "execution_count": 4,
   "id": "208d1a27",
   "metadata": {},
   "outputs": [],
   "source": [
    "b = citra[:,:,0]\n",
    "g = citra[:,:,1]\n",
    "r = citra[:,:,2]"
   ]
  },
  {
   "cell_type": "code",
   "execution_count": 5,
   "id": "952ecd87",
   "metadata": {},
   "outputs": [],
   "source": [
    "panjang = len(citra)\n",
    "lebar = len(citra[0])\n",
    "\n",
    "citra_gray = np.zeros((panjang,lebar))\n",
    "\n",
    "for i in range (panjang):\n",
    "    for j in range (lebar):\n",
    "        citra_gray[i,j] = 0.2989 * r[i,j] + 0.587 * g[i,j] + 0.1141 * b[i,j]\n",
    "\n",
    "citra_gray = citra_gray.astype(np.uint8)"
   ]
  },
  {
   "cell_type": "code",
   "execution_count": 12,
   "id": "189a9b04",
   "metadata": {},
   "outputs": [],
   "source": [
    "cv2.imshow(\"ABU\", citra_gray)\n",
    "cv2.waitKey() \n",
    "cv2.destroyAllWindows()\n"
   ]
  },
  {
   "cell_type": "code",
   "execution_count": 8,
   "id": "104ed309",
   "metadata": {},
   "outputs": [
    {
     "name": "stdout",
     "output_type": "stream",
     "text": [
      "[[0 0 0 ... 0 0 0]\n",
      " [0 0 0 ... 0 0 0]\n",
      " [0 0 0 ... 0 0 0]\n",
      " ...\n",
      " [0 0 0 ... 0 0 0]\n",
      " [0 0 0 ... 0 0 0]\n",
      " [0 0 0 ... 0 0 0]]\n"
     ]
    }
   ],
   "source": [
    "print(citra_gray)"
   ]
  },
  {
   "cell_type": "code",
   "execution_count": 9,
   "id": "d009a94c",
   "metadata": {},
   "outputs": [],
   "source": [
    "panjang = len(citra)\n",
    "lebar = len(citra[0])\n",
    "\n",
    "ambang = 210\n",
    "\n",
    "citra_biner = np.zeros((panjang,lebar))\n",
    "\n",
    "for i in range (panjang):\n",
    "    for j in range (lebar):\n",
    "        if citra_gray[i,j] >= ambang:\n",
    "          citra_biner[i,j] = 0\n",
    "        else:\n",
    "          citra_biner[i,j] = 1"
   ]
  },
  {
   "cell_type": "code",
   "execution_count": 13,
   "id": "fd273015",
   "metadata": {},
   "outputs": [],
   "source": [
    "cv2.imshow(\"biner\", citra_biner)\n",
    "cv2.waitKey() \n",
    "cv2.destroyAllWindows()"
   ]
  },
  {
   "cell_type": "markdown",
   "id": "ea81fba7",
   "metadata": {},
   "source": [
    "## Print pixel on specific index"
   ]
  },
  {
   "cell_type": "code",
   "execution_count": 14,
   "id": "b983f601",
   "metadata": {},
   "outputs": [
    {
     "name": "stdout",
     "output_type": "stream",
     "text": [
      "166\n"
     ]
    }
   ],
   "source": [
    "print(citra_gray[50,50])"
   ]
  },
  {
   "cell_type": "code",
   "execution_count": 15,
   "id": "aea49e49",
   "metadata": {},
   "outputs": [
    {
     "name": "stdout",
     "output_type": "stream",
     "text": [
      "1.0\n"
     ]
    }
   ],
   "source": [
    "print(citra_biner[50,50])"
   ]
  }
 ],
 "metadata": {
  "kernelspec": {
   "display_name": "Python 3 (ipykernel)",
   "language": "python",
   "name": "python3"
  },
  "language_info": {
   "codemirror_mode": {
    "name": "ipython",
    "version": 3
   },
   "file_extension": ".py",
   "mimetype": "text/x-python",
   "name": "python",
   "nbconvert_exporter": "python",
   "pygments_lexer": "ipython3",
   "version": "3.9.13"
  }
 },
 "nbformat": 4,
 "nbformat_minor": 5
}
